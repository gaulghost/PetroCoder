{
 "cells": [
  {
   "cell_type": "markdown",
   "metadata": {},
   "source": [
    "# Prediction of ROP (Rate of Penetration)"
   ]
  },
  {
   "cell_type": "markdown",
   "metadata": {
    "id": "ZVZ_oEoUHfX3"
   },
   "source": [
    "# **1. Import**"
   ]
  },
  {
   "cell_type": "code",
   "execution_count": 1,
   "metadata": {
    "id": "7B5pf7Rkv64R"
   },
   "outputs": [],
   "source": [
    "# import libraries\n",
    "import pandas as pd\n",
    "import numpy as np\n",
    "import pickle\n",
    "\n",
    "%matplotlib inline\n",
    "import matplotlib.pyplot as plt\n",
    "import seaborn as sb\n",
    "# import sklearn libararies\n",
    "from sklearn.preprocessing import StandardScaler, MinMaxScaler, PowerTransformer\n",
    "from sklearn.impute import SimpleImputer\n",
    "from sklearn.utils import shuffle\n",
    "from sklearn.ensemble import RandomForestRegressor, GradientBoostingRegressor\n",
    "from sklearn.model_selection import train_test_split\n",
    "from sklearn.metrics import mean_absolute_error\n",
    "# Used for checking Distribution curve\n",
    "from scipy.stats import skew"
   ]
  },
  {
   "cell_type": "markdown",
   "metadata": {
    "id": "tLgDkc6YHmrv"
   },
   "source": [
    "# **2. Read Data**"
   ]
  },
  {
   "cell_type": "code",
   "execution_count": 2,
   "metadata": {
    "id": "1WI7CzjOEarH"
   },
   "outputs": [],
   "source": [
    "data = pd.read_csv('tech_challenge2021_train.csv')"
   ]
  },
  {
   "cell_type": "markdown",
   "metadata": {
    "id": "SXXzeYeDHrKR"
   },
   "source": [
    "# **3. Glimps Data**"
   ]
  },
  {
   "cell_type": "code",
   "execution_count": 3,
   "metadata": {
    "colab": {
     "base_uri": "https://localhost:8080/",
     "height": 609
    },
    "id": "n7yPlqrbSpGn",
    "outputId": "91949228-4460-4b38-cf76-a6c8d484a891"
   },
   "outputs": [
    {
     "data": {
      "text/html": [
       "<div>\n",
       "<style scoped>\n",
       "    .dataframe tbody tr th:only-of-type {\n",
       "        vertical-align: middle;\n",
       "    }\n",
       "\n",
       "    .dataframe tbody tr th {\n",
       "        vertical-align: top;\n",
       "    }\n",
       "\n",
       "    .dataframe thead th {\n",
       "        text-align: right;\n",
       "    }\n",
       "</style>\n",
       "<table border=\"1\" class=\"dataframe\">\n",
       "  <thead>\n",
       "    <tr style=\"text-align: right;\">\n",
       "      <th></th>\n",
       "      <th>Well Identifier</th>\n",
       "      <th>Measured Depth m</th>\n",
       "      <th>Weight on Bit kkgf</th>\n",
       "      <th>Average Standpipe Pressure kPa</th>\n",
       "      <th>Average Surface Torque kN.m</th>\n",
       "      <th>Rate of Penetration m/h</th>\n",
       "      <th>Average Rotary Speed rpm</th>\n",
       "      <th>Mud Flow In L/min</th>\n",
       "      <th>Mud Density In g/cm3</th>\n",
       "      <th>Diameter mm</th>\n",
       "      <th>Average Hookload kkgf</th>\n",
       "      <th>Hole Depth (TVD) m</th>\n",
       "      <th>USROP Gamma gAPI</th>\n",
       "    </tr>\n",
       "  </thead>\n",
       "  <tbody>\n",
       "    <tr>\n",
       "      <th>74233</th>\n",
       "      <td>USROP_A 3 N-SH-F-15d</td>\n",
       "      <td>1481.608</td>\n",
       "      <td>1.147589</td>\n",
       "      <td>22874.460480</td>\n",
       "      <td>8.419629</td>\n",
       "      <td>14.849856</td>\n",
       "      <td>129.660000</td>\n",
       "      <td>4408.793648</td>\n",
       "      <td>11.933929</td>\n",
       "      <td>444.50</td>\n",
       "      <td>126.343619</td>\n",
       "      <td>1443.374304</td>\n",
       "      <td>160.690</td>\n",
       "    </tr>\n",
       "    <tr>\n",
       "      <th>142322</th>\n",
       "      <td>USROP_A 4 N-SH_F-15Sd</td>\n",
       "      <td>2921.990</td>\n",
       "      <td>1.124909</td>\n",
       "      <td>15612.005780</td>\n",
       "      <td>11.117707</td>\n",
       "      <td>9.918192</td>\n",
       "      <td>217.410000</td>\n",
       "      <td>1794.550267</td>\n",
       "      <td>1.310000</td>\n",
       "      <td>215.90</td>\n",
       "      <td>136.422441</td>\n",
       "      <td>2598.264552</td>\n",
       "      <td>52.150</td>\n",
       "    </tr>\n",
       "    <tr>\n",
       "      <th>122988</th>\n",
       "      <td>USROP_A 4 N-SH_F-15Sd</td>\n",
       "      <td>1536.850</td>\n",
       "      <td>3.079543</td>\n",
       "      <td>20109.800700</td>\n",
       "      <td>13.688338</td>\n",
       "      <td>19.769328</td>\n",
       "      <td>120.000000</td>\n",
       "      <td>3987.855834</td>\n",
       "      <td>1.460000</td>\n",
       "      <td>311.15</td>\n",
       "      <td>126.057321</td>\n",
       "      <td>1488.563952</td>\n",
       "      <td>123.470</td>\n",
       "    </tr>\n",
       "    <tr>\n",
       "      <th>94705</th>\n",
       "      <td>USROP_A 3 N-SH-F-15d</td>\n",
       "      <td>2862.072</td>\n",
       "      <td>8.346100</td>\n",
       "      <td>13856.600570</td>\n",
       "      <td>20.513526</td>\n",
       "      <td>14.228064</td>\n",
       "      <td>139.736000</td>\n",
       "      <td>2121.382739</td>\n",
       "      <td>10.849026</td>\n",
       "      <td>215.90</td>\n",
       "      <td>128.489111</td>\n",
       "      <td>2630.096340</td>\n",
       "      <td>2.110</td>\n",
       "    </tr>\n",
       "    <tr>\n",
       "      <th>191146</th>\n",
       "      <td>USROP_A 6 N-SH_F-9d</td>\n",
       "      <td>225.835</td>\n",
       "      <td>0.560844</td>\n",
       "      <td>8883.999635</td>\n",
       "      <td>1.440001</td>\n",
       "      <td>3.350000</td>\n",
       "      <td>144.000000</td>\n",
       "      <td>3478.899903</td>\n",
       "      <td>1.030000</td>\n",
       "      <td>444.50</td>\n",
       "      <td>95.547406</td>\n",
       "      <td>225.827844</td>\n",
       "      <td>19.332</td>\n",
       "    </tr>\n",
       "    <tr>\n",
       "      <th>25737</th>\n",
       "      <td>USROP_A 2 N-SH_F-14d</td>\n",
       "      <td>1275.436</td>\n",
       "      <td>1.397011</td>\n",
       "      <td>14586.999510</td>\n",
       "      <td>9.670000</td>\n",
       "      <td>45.009998</td>\n",
       "      <td>90.300003</td>\n",
       "      <td>4155.930174</td>\n",
       "      <td>1.210000</td>\n",
       "      <td>444.50</td>\n",
       "      <td>108.977075</td>\n",
       "      <td>1274.945786</td>\n",
       "      <td>32.722</td>\n",
       "    </tr>\n",
       "    <tr>\n",
       "      <th>136945</th>\n",
       "      <td>USROP_A 4 N-SH_F-15Sd</td>\n",
       "      <td>2356.415</td>\n",
       "      <td>4.282808</td>\n",
       "      <td>23684.049780</td>\n",
       "      <td>18.049999</td>\n",
       "      <td>30.165751</td>\n",
       "      <td>159.639000</td>\n",
       "      <td>3987.863405</td>\n",
       "      <td>1.460000</td>\n",
       "      <td>311.15</td>\n",
       "      <td>139.945859</td>\n",
       "      <td>2199.393518</td>\n",
       "      <td>21.955</td>\n",
       "    </tr>\n",
       "    <tr>\n",
       "      <th>44795</th>\n",
       "      <td>USROP_A 2 N-SH_F-14d</td>\n",
       "      <td>2311.414</td>\n",
       "      <td>4.833454</td>\n",
       "      <td>23439.999390</td>\n",
       "      <td>9.439999</td>\n",
       "      <td>18.740000</td>\n",
       "      <td>44.730000</td>\n",
       "      <td>3524.479981</td>\n",
       "      <td>1.290000</td>\n",
       "      <td>311.15</td>\n",
       "      <td>142.260603</td>\n",
       "      <td>2309.502214</td>\n",
       "      <td>41.405</td>\n",
       "    </tr>\n",
       "    <tr>\n",
       "      <th>138791</th>\n",
       "      <td>USROP_A 4 N-SH_F-15Sd</td>\n",
       "      <td>2539.380</td>\n",
       "      <td>5.475876</td>\n",
       "      <td>24158.643500</td>\n",
       "      <td>14.630000</td>\n",
       "      <td>30.178858</td>\n",
       "      <td>159.243000</td>\n",
       "      <td>3987.863405</td>\n",
       "      <td>1.460000</td>\n",
       "      <td>215.90</td>\n",
       "      <td>140.649450</td>\n",
       "      <td>2355.560542</td>\n",
       "      <td>58.480</td>\n",
       "    </tr>\n",
       "    <tr>\n",
       "      <th>105221</th>\n",
       "      <td>USROP_A 3 N-SH-F-15d</td>\n",
       "      <td>3219.301</td>\n",
       "      <td>7.928795</td>\n",
       "      <td>14725.353780</td>\n",
       "      <td>27.093310</td>\n",
       "      <td>25.212446</td>\n",
       "      <td>139.736000</td>\n",
       "      <td>2077.184268</td>\n",
       "      <td>11.182843</td>\n",
       "      <td>215.90</td>\n",
       "      <td>126.430708</td>\n",
       "      <td>2833.984680</td>\n",
       "      <td>32.106</td>\n",
       "    </tr>\n",
       "  </tbody>\n",
       "</table>\n",
       "</div>"
      ],
      "text/plain": [
       "              Well Identifier  Measured Depth m  Weight on Bit kkgf  \\\n",
       "74233    USROP_A 3 N-SH-F-15d          1481.608            1.147589   \n",
       "142322  USROP_A 4 N-SH_F-15Sd          2921.990            1.124909   \n",
       "122988  USROP_A 4 N-SH_F-15Sd          1536.850            3.079543   \n",
       "94705    USROP_A 3 N-SH-F-15d          2862.072            8.346100   \n",
       "191146    USROP_A 6 N-SH_F-9d           225.835            0.560844   \n",
       "25737    USROP_A 2 N-SH_F-14d          1275.436            1.397011   \n",
       "136945  USROP_A 4 N-SH_F-15Sd          2356.415            4.282808   \n",
       "44795    USROP_A 2 N-SH_F-14d          2311.414            4.833454   \n",
       "138791  USROP_A 4 N-SH_F-15Sd          2539.380            5.475876   \n",
       "105221   USROP_A 3 N-SH-F-15d          3219.301            7.928795   \n",
       "\n",
       "        Average Standpipe Pressure kPa  Average Surface Torque kN.m  \\\n",
       "74233                     22874.460480                     8.419629   \n",
       "142322                    15612.005780                    11.117707   \n",
       "122988                    20109.800700                    13.688338   \n",
       "94705                     13856.600570                    20.513526   \n",
       "191146                     8883.999635                     1.440001   \n",
       "25737                     14586.999510                     9.670000   \n",
       "136945                    23684.049780                    18.049999   \n",
       "44795                     23439.999390                     9.439999   \n",
       "138791                    24158.643500                    14.630000   \n",
       "105221                    14725.353780                    27.093310   \n",
       "\n",
       "        Rate of Penetration m/h  Average Rotary Speed rpm  Mud Flow In L/min  \\\n",
       "74233                 14.849856                129.660000        4408.793648   \n",
       "142322                 9.918192                217.410000        1794.550267   \n",
       "122988                19.769328                120.000000        3987.855834   \n",
       "94705                 14.228064                139.736000        2121.382739   \n",
       "191146                 3.350000                144.000000        3478.899903   \n",
       "25737                 45.009998                 90.300003        4155.930174   \n",
       "136945                30.165751                159.639000        3987.863405   \n",
       "44795                 18.740000                 44.730000        3524.479981   \n",
       "138791                30.178858                159.243000        3987.863405   \n",
       "105221                25.212446                139.736000        2077.184268   \n",
       "\n",
       "        Mud Density In g/cm3  Diameter mm  Average Hookload kkgf  \\\n",
       "74233              11.933929       444.50             126.343619   \n",
       "142322              1.310000       215.90             136.422441   \n",
       "122988              1.460000       311.15             126.057321   \n",
       "94705              10.849026       215.90             128.489111   \n",
       "191146              1.030000       444.50              95.547406   \n",
       "25737               1.210000       444.50             108.977075   \n",
       "136945              1.460000       311.15             139.945859   \n",
       "44795               1.290000       311.15             142.260603   \n",
       "138791              1.460000       215.90             140.649450   \n",
       "105221             11.182843       215.90             126.430708   \n",
       "\n",
       "        Hole Depth (TVD) m  USROP Gamma gAPI  \n",
       "74233          1443.374304           160.690  \n",
       "142322         2598.264552            52.150  \n",
       "122988         1488.563952           123.470  \n",
       "94705          2630.096340             2.110  \n",
       "191146          225.827844            19.332  \n",
       "25737          1274.945786            32.722  \n",
       "136945         2199.393518            21.955  \n",
       "44795          2309.502214            41.405  \n",
       "138791         2355.560542            58.480  \n",
       "105221         2833.984680            32.106  "
      ]
     },
     "execution_count": 3,
     "metadata": {},
     "output_type": "execute_result"
    }
   ],
   "source": [
    "data.sample(10)"
   ]
  },
  {
   "cell_type": "code",
   "execution_count": 4,
   "metadata": {
    "colab": {
     "base_uri": "https://localhost:8080/",
     "height": 355
    },
    "id": "pIOuYKwqGkbN",
    "outputId": "fa7618ba-a906-49d7-f5c5-77daa5a3a40d"
   },
   "outputs": [
    {
     "data": {
      "text/html": [
       "<div>\n",
       "<style scoped>\n",
       "    .dataframe tbody tr th:only-of-type {\n",
       "        vertical-align: middle;\n",
       "    }\n",
       "\n",
       "    .dataframe tbody tr th {\n",
       "        vertical-align: top;\n",
       "    }\n",
       "\n",
       "    .dataframe thead th {\n",
       "        text-align: right;\n",
       "    }\n",
       "</style>\n",
       "<table border=\"1\" class=\"dataframe\">\n",
       "  <thead>\n",
       "    <tr style=\"text-align: right;\">\n",
       "      <th></th>\n",
       "      <th>Measured Depth m</th>\n",
       "      <th>Weight on Bit kkgf</th>\n",
       "      <th>Average Standpipe Pressure kPa</th>\n",
       "      <th>Average Surface Torque kN.m</th>\n",
       "      <th>Rate of Penetration m/h</th>\n",
       "      <th>Average Rotary Speed rpm</th>\n",
       "      <th>Mud Flow In L/min</th>\n",
       "      <th>Mud Density In g/cm3</th>\n",
       "      <th>Diameter mm</th>\n",
       "      <th>Average Hookload kkgf</th>\n",
       "      <th>Hole Depth (TVD) m</th>\n",
       "      <th>USROP Gamma gAPI</th>\n",
       "    </tr>\n",
       "  </thead>\n",
       "  <tbody>\n",
       "    <tr>\n",
       "      <th>count</th>\n",
       "      <td>198928.000000</td>\n",
       "      <td>198928.000000</td>\n",
       "      <td>198928.000000</td>\n",
       "      <td>198928.000000</td>\n",
       "      <td>198928.000000</td>\n",
       "      <td>198928.000000</td>\n",
       "      <td>198928.000000</td>\n",
       "      <td>198928.000000</td>\n",
       "      <td>198928.000000</td>\n",
       "      <td>198928.000000</td>\n",
       "      <td>198928.000000</td>\n",
       "      <td>198928.000000</td>\n",
       "    </tr>\n",
       "    <tr>\n",
       "      <th>mean</th>\n",
       "      <td>2411.781370</td>\n",
       "      <td>6.087997</td>\n",
       "      <td>17451.302922</td>\n",
       "      <td>14.430343</td>\n",
       "      <td>24.978426</td>\n",
       "      <td>152.368019</td>\n",
       "      <td>2873.576072</td>\n",
       "      <td>4.008286</td>\n",
       "      <td>297.470693</td>\n",
       "      <td>127.503708</td>\n",
       "      <td>2153.624785</td>\n",
       "      <td>67.197939</td>\n",
       "    </tr>\n",
       "    <tr>\n",
       "      <th>std</th>\n",
       "      <td>1066.443448</td>\n",
       "      <td>3.957126</td>\n",
       "      <td>4236.531326</td>\n",
       "      <td>7.239629</td>\n",
       "      <td>15.086731</td>\n",
       "      <td>49.998842</td>\n",
       "      <td>1055.406219</td>\n",
       "      <td>4.496288</td>\n",
       "      <td>100.344171</td>\n",
       "      <td>15.551890</td>\n",
       "      <td>846.519288</td>\n",
       "      <td>50.519888</td>\n",
       "    </tr>\n",
       "    <tr>\n",
       "      <th>min</th>\n",
       "      <td>225.171000</td>\n",
       "      <td>0.001814</td>\n",
       "      <td>1432.661618</td>\n",
       "      <td>0.008135</td>\n",
       "      <td>0.330000</td>\n",
       "      <td>0.000000</td>\n",
       "      <td>185.420836</td>\n",
       "      <td>1.020000</td>\n",
       "      <td>215.900000</td>\n",
       "      <td>84.047945</td>\n",
       "      <td>225.162770</td>\n",
       "      <td>0.000000</td>\n",
       "    </tr>\n",
       "    <tr>\n",
       "      <th>25%</th>\n",
       "      <td>1548.686750</td>\n",
       "      <td>3.283486</td>\n",
       "      <td>14655.999760</td>\n",
       "      <td>9.639866</td>\n",
       "      <td>12.990000</td>\n",
       "      <td>129.250000</td>\n",
       "      <td>1993.927917</td>\n",
       "      <td>1.300000</td>\n",
       "      <td>215.900000</td>\n",
       "      <td>124.925435</td>\n",
       "      <td>1516.593360</td>\n",
       "      <td>25.380000</td>\n",
       "    </tr>\n",
       "    <tr>\n",
       "      <th>50%</th>\n",
       "      <td>2697.182500</td>\n",
       "      <td>5.190356</td>\n",
       "      <td>16683.999630</td>\n",
       "      <td>12.798921</td>\n",
       "      <td>21.090000</td>\n",
       "      <td>139.736000</td>\n",
       "      <td>2121.382739</td>\n",
       "      <td>1.350000</td>\n",
       "      <td>215.900000</td>\n",
       "      <td>130.905851</td>\n",
       "      <td>2528.949222</td>\n",
       "      <td>54.490000</td>\n",
       "    </tr>\n",
       "    <tr>\n",
       "      <th>75%</th>\n",
       "      <td>3288.946500</td>\n",
       "      <td>8.127138</td>\n",
       "      <td>21153.529060</td>\n",
       "      <td>17.815448</td>\n",
       "      <td>32.470001</td>\n",
       "      <td>179.283000</td>\n",
       "      <td>3987.855834</td>\n",
       "      <td>10.849026</td>\n",
       "      <td>444.500000</td>\n",
       "      <td>138.719433</td>\n",
       "      <td>2865.091577</td>\n",
       "      <td>98.140000</td>\n",
       "    </tr>\n",
       "    <tr>\n",
       "      <th>max</th>\n",
       "      <td>4090.001000</td>\n",
       "      <td>31.411272</td>\n",
       "      <td>24998.459410</td>\n",
       "      <td>36.489128</td>\n",
       "      <td>99.206304</td>\n",
       "      <td>311.230011</td>\n",
       "      <td>4538.450195</td>\n",
       "      <td>12.017384</td>\n",
       "      <td>444.500000</td>\n",
       "      <td>152.926842</td>\n",
       "      <td>3248.389893</td>\n",
       "      <td>260.899000</td>\n",
       "    </tr>\n",
       "  </tbody>\n",
       "</table>\n",
       "</div>"
      ],
      "text/plain": [
       "       Measured Depth m  Weight on Bit kkgf  Average Standpipe Pressure kPa  \\\n",
       "count     198928.000000       198928.000000                   198928.000000   \n",
       "mean        2411.781370            6.087997                    17451.302922   \n",
       "std         1066.443448            3.957126                     4236.531326   \n",
       "min          225.171000            0.001814                     1432.661618   \n",
       "25%         1548.686750            3.283486                    14655.999760   \n",
       "50%         2697.182500            5.190356                    16683.999630   \n",
       "75%         3288.946500            8.127138                    21153.529060   \n",
       "max         4090.001000           31.411272                    24998.459410   \n",
       "\n",
       "       Average Surface Torque kN.m  Rate of Penetration m/h  \\\n",
       "count                198928.000000            198928.000000   \n",
       "mean                     14.430343                24.978426   \n",
       "std                       7.239629                15.086731   \n",
       "min                       0.008135                 0.330000   \n",
       "25%                       9.639866                12.990000   \n",
       "50%                      12.798921                21.090000   \n",
       "75%                      17.815448                32.470001   \n",
       "max                      36.489128                99.206304   \n",
       "\n",
       "       Average Rotary Speed rpm  Mud Flow In L/min  Mud Density In g/cm3  \\\n",
       "count             198928.000000      198928.000000         198928.000000   \n",
       "mean                 152.368019        2873.576072              4.008286   \n",
       "std                   49.998842        1055.406219              4.496288   \n",
       "min                    0.000000         185.420836              1.020000   \n",
       "25%                  129.250000        1993.927917              1.300000   \n",
       "50%                  139.736000        2121.382739              1.350000   \n",
       "75%                  179.283000        3987.855834             10.849026   \n",
       "max                  311.230011        4538.450195             12.017384   \n",
       "\n",
       "         Diameter mm  Average Hookload kkgf  Hole Depth (TVD) m  \\\n",
       "count  198928.000000          198928.000000       198928.000000   \n",
       "mean      297.470693             127.503708         2153.624785   \n",
       "std       100.344171              15.551890          846.519288   \n",
       "min       215.900000              84.047945          225.162770   \n",
       "25%       215.900000             124.925435         1516.593360   \n",
       "50%       215.900000             130.905851         2528.949222   \n",
       "75%       444.500000             138.719433         2865.091577   \n",
       "max       444.500000             152.926842         3248.389893   \n",
       "\n",
       "       USROP Gamma gAPI  \n",
       "count     198928.000000  \n",
       "mean          67.197939  \n",
       "std           50.519888  \n",
       "min            0.000000  \n",
       "25%           25.380000  \n",
       "50%           54.490000  \n",
       "75%           98.140000  \n",
       "max          260.899000  "
      ]
     },
     "execution_count": 4,
     "metadata": {},
     "output_type": "execute_result"
    }
   ],
   "source": [
    "data.describe()"
   ]
  },
  {
   "cell_type": "markdown",
   "metadata": {
    "id": "CaOoBHA6HwM5"
   },
   "source": [
    "# **4. Exploratory Data Analysis**"
   ]
  },
  {
   "cell_type": "code",
   "execution_count": 5,
   "metadata": {
    "colab": {
     "base_uri": "https://localhost:8080/",
     "height": 355
    },
    "id": "Bq8gaKuJGqBE",
    "outputId": "ac829c60-f39c-49c0-d968-324049531251"
   },
   "outputs": [
    {
     "data": {
      "text/html": [
       "<div>\n",
       "<style scoped>\n",
       "    .dataframe tbody tr th:only-of-type {\n",
       "        vertical-align: middle;\n",
       "    }\n",
       "\n",
       "    .dataframe tbody tr th {\n",
       "        vertical-align: top;\n",
       "    }\n",
       "\n",
       "    .dataframe thead th {\n",
       "        text-align: right;\n",
       "    }\n",
       "</style>\n",
       "<table border=\"1\" class=\"dataframe\">\n",
       "  <thead>\n",
       "    <tr style=\"text-align: right;\">\n",
       "      <th></th>\n",
       "      <th>Measured Depth m</th>\n",
       "      <th>Weight on Bit kkgf</th>\n",
       "      <th>Average Standpipe Pressure kPa</th>\n",
       "      <th>Average Surface Torque kN.m</th>\n",
       "      <th>Rate of Penetration m/h</th>\n",
       "      <th>Average Rotary Speed rpm</th>\n",
       "      <th>Mud Flow In L/min</th>\n",
       "      <th>Mud Density In g/cm3</th>\n",
       "      <th>Diameter mm</th>\n",
       "      <th>Average Hookload kkgf</th>\n",
       "      <th>Hole Depth (TVD) m</th>\n",
       "      <th>USROP Gamma gAPI</th>\n",
       "    </tr>\n",
       "  </thead>\n",
       "  <tbody>\n",
       "    <tr>\n",
       "      <th>count</th>\n",
       "      <td>198928.000000</td>\n",
       "      <td>198928.000000</td>\n",
       "      <td>198928.000000</td>\n",
       "      <td>198928.000000</td>\n",
       "      <td>198928.000000</td>\n",
       "      <td>198928.000000</td>\n",
       "      <td>198928.000000</td>\n",
       "      <td>198928.000000</td>\n",
       "      <td>198928.000000</td>\n",
       "      <td>198928.000000</td>\n",
       "      <td>198928.000000</td>\n",
       "      <td>198928.000000</td>\n",
       "    </tr>\n",
       "    <tr>\n",
       "      <th>mean</th>\n",
       "      <td>2411.781370</td>\n",
       "      <td>6.087997</td>\n",
       "      <td>17451.302922</td>\n",
       "      <td>14.430343</td>\n",
       "      <td>24.978426</td>\n",
       "      <td>152.368019</td>\n",
       "      <td>2873.576072</td>\n",
       "      <td>4.008286</td>\n",
       "      <td>297.470693</td>\n",
       "      <td>127.503708</td>\n",
       "      <td>2153.624785</td>\n",
       "      <td>67.197939</td>\n",
       "    </tr>\n",
       "    <tr>\n",
       "      <th>std</th>\n",
       "      <td>1066.443448</td>\n",
       "      <td>3.957126</td>\n",
       "      <td>4236.531326</td>\n",
       "      <td>7.239629</td>\n",
       "      <td>15.086731</td>\n",
       "      <td>49.998842</td>\n",
       "      <td>1055.406219</td>\n",
       "      <td>4.496288</td>\n",
       "      <td>100.344171</td>\n",
       "      <td>15.551890</td>\n",
       "      <td>846.519288</td>\n",
       "      <td>50.519888</td>\n",
       "    </tr>\n",
       "    <tr>\n",
       "      <th>min</th>\n",
       "      <td>225.171000</td>\n",
       "      <td>0.001814</td>\n",
       "      <td>1432.661618</td>\n",
       "      <td>0.008135</td>\n",
       "      <td>0.330000</td>\n",
       "      <td>0.000000</td>\n",
       "      <td>185.420836</td>\n",
       "      <td>1.020000</td>\n",
       "      <td>215.900000</td>\n",
       "      <td>84.047945</td>\n",
       "      <td>225.162770</td>\n",
       "      <td>0.000000</td>\n",
       "    </tr>\n",
       "    <tr>\n",
       "      <th>25%</th>\n",
       "      <td>1548.686750</td>\n",
       "      <td>3.283486</td>\n",
       "      <td>14655.999760</td>\n",
       "      <td>9.639866</td>\n",
       "      <td>12.990000</td>\n",
       "      <td>129.250000</td>\n",
       "      <td>1993.927917</td>\n",
       "      <td>1.300000</td>\n",
       "      <td>215.900000</td>\n",
       "      <td>124.925435</td>\n",
       "      <td>1516.593360</td>\n",
       "      <td>25.380000</td>\n",
       "    </tr>\n",
       "    <tr>\n",
       "      <th>50%</th>\n",
       "      <td>2697.182500</td>\n",
       "      <td>5.190356</td>\n",
       "      <td>16683.999630</td>\n",
       "      <td>12.798921</td>\n",
       "      <td>21.090000</td>\n",
       "      <td>139.736000</td>\n",
       "      <td>2121.382739</td>\n",
       "      <td>1.350000</td>\n",
       "      <td>215.900000</td>\n",
       "      <td>130.905851</td>\n",
       "      <td>2528.949222</td>\n",
       "      <td>54.490000</td>\n",
       "    </tr>\n",
       "    <tr>\n",
       "      <th>75%</th>\n",
       "      <td>3288.946500</td>\n",
       "      <td>8.127138</td>\n",
       "      <td>21153.529060</td>\n",
       "      <td>17.815448</td>\n",
       "      <td>32.470001</td>\n",
       "      <td>179.283000</td>\n",
       "      <td>3987.855834</td>\n",
       "      <td>10.849026</td>\n",
       "      <td>444.500000</td>\n",
       "      <td>138.719433</td>\n",
       "      <td>2865.091577</td>\n",
       "      <td>98.140000</td>\n",
       "    </tr>\n",
       "    <tr>\n",
       "      <th>max</th>\n",
       "      <td>4090.001000</td>\n",
       "      <td>31.411272</td>\n",
       "      <td>24998.459410</td>\n",
       "      <td>36.489128</td>\n",
       "      <td>99.206304</td>\n",
       "      <td>311.230011</td>\n",
       "      <td>4538.450195</td>\n",
       "      <td>12.017384</td>\n",
       "      <td>444.500000</td>\n",
       "      <td>152.926842</td>\n",
       "      <td>3248.389893</td>\n",
       "      <td>260.899000</td>\n",
       "    </tr>\n",
       "  </tbody>\n",
       "</table>\n",
       "</div>"
      ],
      "text/plain": [
       "       Measured Depth m  Weight on Bit kkgf  Average Standpipe Pressure kPa  \\\n",
       "count     198928.000000       198928.000000                   198928.000000   \n",
       "mean        2411.781370            6.087997                    17451.302922   \n",
       "std         1066.443448            3.957126                     4236.531326   \n",
       "min          225.171000            0.001814                     1432.661618   \n",
       "25%         1548.686750            3.283486                    14655.999760   \n",
       "50%         2697.182500            5.190356                    16683.999630   \n",
       "75%         3288.946500            8.127138                    21153.529060   \n",
       "max         4090.001000           31.411272                    24998.459410   \n",
       "\n",
       "       Average Surface Torque kN.m  Rate of Penetration m/h  \\\n",
       "count                198928.000000            198928.000000   \n",
       "mean                     14.430343                24.978426   \n",
       "std                       7.239629                15.086731   \n",
       "min                       0.008135                 0.330000   \n",
       "25%                       9.639866                12.990000   \n",
       "50%                      12.798921                21.090000   \n",
       "75%                      17.815448                32.470001   \n",
       "max                      36.489128                99.206304   \n",
       "\n",
       "       Average Rotary Speed rpm  Mud Flow In L/min  Mud Density In g/cm3  \\\n",
       "count             198928.000000      198928.000000         198928.000000   \n",
       "mean                 152.368019        2873.576072              4.008286   \n",
       "std                   49.998842        1055.406219              4.496288   \n",
       "min                    0.000000         185.420836              1.020000   \n",
       "25%                  129.250000        1993.927917              1.300000   \n",
       "50%                  139.736000        2121.382739              1.350000   \n",
       "75%                  179.283000        3987.855834             10.849026   \n",
       "max                  311.230011        4538.450195             12.017384   \n",
       "\n",
       "         Diameter mm  Average Hookload kkgf  Hole Depth (TVD) m  \\\n",
       "count  198928.000000          198928.000000       198928.000000   \n",
       "mean      297.470693             127.503708         2153.624785   \n",
       "std       100.344171              15.551890          846.519288   \n",
       "min       215.900000              84.047945          225.162770   \n",
       "25%       215.900000             124.925435         1516.593360   \n",
       "50%       215.900000             130.905851         2528.949222   \n",
       "75%       444.500000             138.719433         2865.091577   \n",
       "max       444.500000             152.926842         3248.389893   \n",
       "\n",
       "       USROP Gamma gAPI  \n",
       "count     198928.000000  \n",
       "mean          67.197939  \n",
       "std           50.519888  \n",
       "min            0.000000  \n",
       "25%           25.380000  \n",
       "50%           54.490000  \n",
       "75%           98.140000  \n",
       "max          260.899000  "
      ]
     },
     "execution_count": 5,
     "metadata": {},
     "output_type": "execute_result"
    }
   ],
   "source": [
    "# remove all rows that contains missing value\n",
    "data.replace(['-999', -999], np.nan, inplace=True)\n",
    "data.dropna(axis=0, inplace=True)\n",
    "data.describe()"
   ]
  },
  {
   "cell_type": "markdown",
   "metadata": {},
   "source": [
    "<b>The above table shows that the there is considerable difference between the values between mean and 50% percentile of the data. This shows that the data is not distributed evenly.</b>"
   ]
  },
  {
   "cell_type": "code",
   "execution_count": 6,
   "metadata": {
    "colab": {
     "base_uri": "https://localhost:8080/"
    },
    "id": "9nWue115TDxI",
    "outputId": "2678e90a-fcc5-485c-916d-2a119cc11956"
   },
   "outputs": [
    {
     "data": {
      "text/plain": [
       "Well Identifier                   False\n",
       "Measured Depth m                  False\n",
       "Weight on Bit kkgf                False\n",
       "Average Standpipe Pressure kPa    False\n",
       "Average Surface Torque kN.m       False\n",
       "Rate of Penetration m/h           False\n",
       "Average Rotary Speed rpm          False\n",
       "Mud Flow In L/min                 False\n",
       "Mud Density In g/cm3              False\n",
       "Diameter mm                       False\n",
       "Average Hookload kkgf             False\n",
       "Hole Depth (TVD) m                False\n",
       "USROP Gamma gAPI                  False\n",
       "dtype: bool"
      ]
     },
     "execution_count": 6,
     "metadata": {},
     "output_type": "execute_result"
    }
   ],
   "source": [
    "#Checking for any missing or nan values\n",
    "data.isna().any()"
   ]
  },
  {
   "cell_type": "code",
   "execution_count": 7,
   "metadata": {
    "colab": {
     "base_uri": "https://localhost:8080/"
    },
    "id": "8fcEBUa6SlTs",
    "outputId": "9dd7e533-50e0-41e4-8bc6-5a12b00a7980"
   },
   "outputs": [
    {
     "data": {
      "text/plain": [
       "array(['USROP_A 0 N-NA_F-9_Ad', 'USROP_A 1 N-S_F-7d',\n",
       "       'USROP_A 2 N-SH_F-14d', 'USROP_A 3 N-SH-F-15d',\n",
       "       'USROP_A 4 N-SH_F-15Sd', 'USROP_A 5 N-SH-F-5d',\n",
       "       'USROP_A 6 N-SH_F-9d'], dtype=object)"
      ]
     },
     "execution_count": 7,
     "metadata": {},
     "output_type": "execute_result"
    }
   ],
   "source": [
    "# Identifying the numbers of unique wells whose data has been used\n",
    "wells = data['Well Identifier'].unique()\n",
    "wells"
   ]
  },
  {
   "cell_type": "code",
   "execution_count": 8,
   "metadata": {
    "colab": {
     "base_uri": "https://localhost:8080/"
    },
    "id": "TmM_YJTyS7Aw",
    "outputId": "f4b9db1a-9562-4aa8-8abf-33e134ab5c9a"
   },
   "outputs": [
    {
     "data": {
      "text/plain": [
       "7"
      ]
     },
     "execution_count": 8,
     "metadata": {},
     "output_type": "execute_result"
    }
   ],
   "source": [
    "len(wells)"
   ]
  },
  {
   "cell_type": "code",
   "execution_count": 9,
   "metadata": {
    "colab": {
     "base_uri": "https://localhost:8080/"
    },
    "id": "O_pUoCflG0f8",
    "outputId": "39e97f74-3a82-4077-e3bd-6c0541c27d37"
   },
   "outputs": [
    {
     "data": {
      "text/plain": [
       "['Well Identifier',\n",
       " 'Measured Depth m',\n",
       " 'Weight on Bit kkgf',\n",
       " 'Average Standpipe Pressure kPa',\n",
       " 'Average Surface Torque kN.m',\n",
       " 'Rate of Penetration m/h',\n",
       " 'Average Rotary Speed rpm',\n",
       " 'Mud Flow In L/min',\n",
       " 'Mud Density In g/cm3',\n",
       " 'Diameter mm',\n",
       " 'Average Hookload kkgf',\n",
       " 'Hole Depth (TVD) m',\n",
       " 'USROP Gamma gAPI']"
      ]
     },
     "execution_count": 9,
     "metadata": {},
     "output_type": "execute_result"
    }
   ],
   "source": [
    "data.columns.tolist()"
   ]
  },
  {
   "cell_type": "code",
   "execution_count": 10,
   "metadata": {},
   "outputs": [
    {
     "data": {
      "text/plain": [
       "Measured Depth m                 -0.345659\n",
       "Weight on Bit kkgf                0.906045\n",
       "Average Standpipe Pressure kPa   -0.129656\n",
       "Average Surface Torque kN.m       0.529987\n",
       "Rate of Penetration m/h           0.998834\n",
       "Average Rotary Speed rpm          0.457813\n",
       "Mud Flow In L/min                 0.322860\n",
       "Mud Density In g/cm3              1.062461\n",
       "Diameter mm                       0.626293\n",
       "Average Hookload kkgf            -1.118999\n",
       "Hole Depth (TVD) m               -0.690687\n",
       "USROP Gamma gAPI                  0.903386\n",
       "dtype: float64"
      ]
     },
     "execution_count": 10,
     "metadata": {},
     "output_type": "execute_result"
    }
   ],
   "source": [
    "data.skew(axis = 0, skipna = True)"
   ]
  },
  {
   "cell_type": "markdown",
   "metadata": {},
   "source": [
    "<b>Skewness of the data shows us that Data Distribution Curve is not properly distributed.</b>"
   ]
  },
  {
   "cell_type": "markdown",
   "metadata": {},
   "source": [
    "## Visualizing Data Distribution Curve"
   ]
  },
  {
   "cell_type": "code",
   "execution_count": 11,
   "metadata": {},
   "outputs": [
    {
     "data": {
      "text/plain": [
       "<matplotlib.axes._subplots.AxesSubplot at 0x148603b33c8>"
      ]
     },
     "execution_count": 11,
     "metadata": {},
     "output_type": "execute_result"
    },
    {
     "data": {
      "image/png": "[encoded data removed]",
      "text/plain": [
       "<Figure size 432x288 with 1 Axes>"
      ]
     },
     "metadata": {
      "needs_background": "light"
     },
     "output_type": "display_data"
    }
   ],
   "source": [
    "data['Measured Depth m'].hist(bins = 1000)"
   ]
  },
  {
   "cell_type": "code",
   "execution_count": 12,
   "metadata": {},
   "outputs": [
    {
     "data": {
      "text/plain": [
       "<matplotlib.axes._subplots.AxesSubplot at 0x14863ab8b08>"
      ]
     },
     "execution_count": 12,
     "metadata": {},
     "output_type": "execute_result"
    },
    {
     "data": {
      "image/png": "[encoded data removed]",
      "text/plain": [
       "<Figure size 432x288 with 1 Axes>"
      ]
     },
     "metadata": {
      "needs_background": "light"
     },
     "output_type": "display_data"
    }
   ],
   "source": [
    "data['Weight on Bit kkgf'].hist(bins = 1000)"
   ]
  },
  {
   "cell_type": "code",
   "execution_count": 13,
   "metadata": {},
   "outputs": [
    {
     "data": {
      "text/plain": [
       "<matplotlib.axes._subplots.AxesSubplot at 0x1486479f248>"
      ]
     },
     "execution_count": 13,
     "metadata": {},
     "output_type": "execute_result"
    },
    {
     "data": {
      "image/png": "[encoded data removed]",
      "text/plain": [
       "<Figure size 432x288 with 1 Axes>"
      ]
     },
     "metadata": {
      "needs_background": "light"
     },
     "output_type": "display_data"
    }
   ],
   "source": [
    "data['Average Standpipe Pressure kPa'].hist(bins = 1000)"
   ]
  },
  {
   "cell_type": "code",
   "execution_count": 14,
   "metadata": {},
   "outputs": [
    {
     "data": {
      "text/plain": [
       "<matplotlib.axes._subplots.AxesSubplot at 0x14865289788>"
      ]
     },
     "execution_count": 14,
     "metadata": {},
     "output_type": "execute_result"
    },
    {
     "data": {
      "image/png": "[encoded data removed]",
      "text/plain": [
       "<Figure size 432x288 with 1 Axes>"
      ]
     },
     "metadata": {
      "needs_background": "light"
     },
     "output_type": "display_data"
    }
   ],
   "source": [
    "data['Average Surface Torque kN.m'].hist(bins = 1000)"
   ]
  },
  {
   "cell_type": "code",
   "execution_count": 15,
   "metadata": {},
   "outputs": [
    {
     "data": {
      "text/plain": [
       "<matplotlib.axes._subplots.AxesSubplot at 0x14865fb4548>"
      ]
     },
     "execution_count": 15,
     "metadata": {},
     "output_type": "execute_result"
    },
    {
     "data": {
      "image/png": "[encoded data removed]",
      "text/plain": [
       "<Figure size 432x288 with 1 Axes>"
      ]
     },
     "metadata": {
      "needs_background": "light"
     },
     "output_type": "display_data"
    }
   ],
   "source": [
    "data['Rate of Penetration m/h'].hist(bins = 1000)"
   ]
  },
  {
   "cell_type": "code",
   "execution_count": 16,
   "metadata": {},
   "outputs": [
    {
     "data": {
      "text/plain": [
       "<matplotlib.axes._subplots.AxesSubplot at 0x1486606e888>"
      ]
     },
     "execution_count": 16,
     "metadata": {},
     "output_type": "execute_result"
    },
    {
     "data": {
      "image/png": "[encoded data removed]",
      "text/plain": [
       "<Figure size 432x288 with 1 Axes>"
      ]
     },
     "metadata": {
      "needs_background": "light"
     },
     "output_type": "display_data"
    }
   ],
   "source": [
    "data['Average Rotary Speed rpm'].hist(bins = 1000)"
   ]
  },
  {
   "cell_type": "code",
   "execution_count": 17,
   "metadata": {},
   "outputs": [
    {
     "data": {
      "text/plain": [
       "<matplotlib.axes._subplots.AxesSubplot at 0x1486750b0c8>"
      ]
     },
     "execution_count": 17,
     "metadata": {},
     "output_type": "execute_result"
    },
    {
     "data": {
      "image/png": "[encoded data removed]",
      "text/plain": [
       "<Figure size 432x288 with 1 Axes>"
      ]
     },
     "metadata": {
      "needs_background": "light"
     },
     "output_type": "display_data"
    }
   ],
   "source": [
    "data['Mud Flow In L/min'].hist(bins = 1000)"
   ]
  },
  {
   "cell_type": "code",
   "execution_count": 18,
   "metadata": {},
   "outputs": [
    {
     "data": {
      "text/plain": [
       "<matplotlib.axes._subplots.AxesSubplot at 0x1486816bd88>"
      ]
     },
     "execution_count": 18,
     "metadata": {},
     "output_type": "execute_result"
    },
    {
     "data": {
      "image/png": "[encoded data removed]",
      "text/plain": [
       "<Figure size 432x288 with 1 Axes>"
      ]
     },
     "metadata": {
      "needs_background": "light"
     },
     "output_type": "display_data"
    }
   ],
   "source": [
    "data['Mud Density In g/cm3'].hist(bins = 1000)"
   ]
  },
  {
   "cell_type": "code",
   "execution_count": 19,
   "metadata": {},
   "outputs": [
    {
     "data": {
      "text/plain": [
       "<matplotlib.axes._subplots.AxesSubplot at 0x14868e26688>"
      ]
     },
     "execution_count": 19,
     "metadata": {},
     "output_type": "execute_result"
    },
    {
     "data": {
      "image/png": "[encoded data removed]",
      "text/plain": [
       "<Figure size 432x288 with 1 Axes>"
      ]
     },
     "metadata": {
      "needs_background": "light"
     },
     "output_type": "display_data"
    }
   ],
   "source": [
    "data['Diameter mm'].hist(bins = 100)"
   ]
  },
  {
   "cell_type": "code",
   "execution_count": 20,
   "metadata": {},
   "outputs": [
    {
     "data": {
      "text/plain": [
       "<matplotlib.axes._subplots.AxesSubplot at 0x14868ffc508>"
      ]
     },
     "execution_count": 20,
     "metadata": {},
     "output_type": "execute_result"
    },
    {
     "data": {
      "image/png": "[encoded data removed]",
      "text/plain": [
       "<Figure size 432x288 with 1 Axes>"
      ]
     },
     "metadata": {
      "needs_background": "light"
     },
     "output_type": "display_data"
    }
   ],
   "source": [
    "data['Average Hookload kkgf'].hist(bins = 1000)"
   ]
  },
  {
   "cell_type": "code",
   "execution_count": 21,
   "metadata": {},
   "outputs": [
    {
     "data": {
      "text/plain": [
       "<matplotlib.axes._subplots.AxesSubplot at 0x148690657c8>"
      ]
     },
     "execution_count": 21,
     "metadata": {},
     "output_type": "execute_result"
    },
    {
     "data": {
      "image/png": "[encoded data removed]",
      "text/plain": [
       "<Figure size 432x288 with 1 Axes>"
      ]
     },
     "metadata": {
      "needs_background": "light"
     },
     "output_type": "display_data"
    }
   ],
   "source": [
    "data['Hole Depth (TVD) m'].hist(bins = 1000)"
   ]
  },
  {
   "cell_type": "code",
   "execution_count": 22,
   "metadata": {},
   "outputs": [
    {
     "data": {
      "text/plain": [
       "<matplotlib.axes._subplots.AxesSubplot at 0x1486b6d4f08>"
      ]
     },
     "execution_count": 22,
     "metadata": {},
     "output_type": "execute_result"
    },
    {
     "data": {
      "image/png": "[encoded data removed]",
      "text/plain": [
       "<Figure size 432x288 with 1 Axes>"
      ]
     },
     "metadata": {
      "needs_background": "light"
     },
     "output_type": "display_data"
    }
   ],
   "source": [
    "data['USROP Gamma gAPI'].hist(bins = 1000)"
   ]
  },
  {
   "cell_type": "markdown",
   "metadata": {},
   "source": [
    "## Data Scaling\n",
    "<b>This brings us to the possibility of using different scalers to scale our data.</b>\n",
    "<ol>\n",
    "    <li>StandardScaler</li>\n",
    "    <li>MinMaxScaler</li>\n",
    "    <li>MaxAbsScaler</li>\n",
    "    <li>RobustScaler</li>\n",
    "    <li>Quartile Transformer</li>\n",
    "    <li>PowerTransformer (Yeo-Johnson and Box-Cox)</li>\n",
    "</ol>\n",
    "\n",
    "<b>We eliminate the use of RobustScaler and QuartileTransformer since they balance out data by adding or removing outliers which may affect our data and the relation between our columns since ROP is highly variable.</b>\n",
    "\n",
    "<b>We also rule out the use of Box-Cox Power Transformer since our data rows has 0 values on which Box-Cox won't work.</b>\n",
    "\n",
    "This leaves us with possible transforms -\n",
    "<ol>\n",
    "    <li>StandardScaler</li>\n",
    "    <li>MinMaxScaler</li>\n",
    "    <li>MaxAbsScaler</li>\n",
    "    <li>PowerTransformer (Yeo-Johnson)</li>\n",
    "</ol>"
   ]
  },
  {
   "cell_type": "code",
   "execution_count": null,
   "metadata": {},
   "outputs": [],
   "source": []
  }
 ],
 "metadata": {
  "colab": {
   "collapsed_sections": [],
   "name": "Tech_Challenge2021_starter_notebook.ipynb",
   "provenance": []
  },
  "kernelspec": {
   "display_name": "Python 3",
   "language": "python",
   "name": "python3"
  },
  "language_info": {
   "codemirror_mode": {
    "name": "ipython",
    "version": 3
   },
   "file_extension": ".py",
   "mimetype": "text/x-python",
   "name": "python",
   "nbconvert_exporter": "python",
   "pygments_lexer": "ipython3",
   "version": "3.7.6"
  }
 },
 "nbformat": 4,
 "nbformat_minor": 1
}
